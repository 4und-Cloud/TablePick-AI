{
 "cells": [
  {
   "cell_type": "code",
   "execution_count": 22,
   "id": "75737d5f",
   "metadata": {},
   "outputs": [
    {
     "name": "stdout",
     "output_type": "stream",
     "text": [
      "음식점_이름      0\n",
      "카테고리      427\n",
      "위도          0\n",
      "경도          0\n",
      "dtype: int64\n",
      "         음식점_이름 카테고리         위도          경도\n",
      "7          송원빌딩  NaN  37.491073  127.038494\n",
      "15           벨르  NaN  37.501092  127.034639\n",
      "22          진선미  NaN  37.497458  127.065326\n",
      "40        트리아호텔  NaN  37.502875  127.039434\n",
      "63      한우리외식산업  NaN  37.521100  127.034728\n",
      "...         ...  ...        ...         ...\n",
      "4136     팬텀1574  NaN  37.507818  127.056958\n",
      "4142  뉴욕프라이즈강남점  NaN  37.498516  127.028272\n",
      "4143   소노야 신사역점  NaN  37.516406  127.020262\n",
      "4144         사또  NaN  37.512392  127.050286\n",
      "4146         발리  NaN  37.518926  127.034593\n",
      "\n",
      "[427 rows x 4 columns]\n"
     ]
    }
   ],
   "source": [
    "import pandas as pd\n",
    "\n",
    "# 데이터 불러오기 (구분자가 콤마일 경우)\n",
    "df = pd.read_csv('../../data/external/google_gangnam_crawling_data.csv')\n",
    "\n",
    "# 결측치 확인할 컬럼 리스트\n",
    "cols_to_check = ['음식점_이름', '카테고리', '위도', '경도']\n",
    "\n",
    "# 각 컬럼별 결측치 개수 출력\n",
    "print(df[cols_to_check].isnull().sum())\n",
    "\n",
    "# 결측치가 있는 행만 따로 보고 싶을 때\n",
    "missing_rows = df[df[cols_to_check].isnull().any(axis=1)]\n",
    "print(missing_rows[cols_to_check])\n"
   ]
  },
  {
   "cell_type": "code",
   "execution_count": 23,
   "id": "36f225f0",
   "metadata": {},
   "outputs": [],
   "source": [
    "df_no_missing_category = df.dropna(subset=['카테고리']).reset_index(drop=True)"
   ]
  },
  {
   "cell_type": "code",
   "execution_count": 27,
   "id": "ddcdc042",
   "metadata": {},
   "outputs": [
    {
     "name": "stdout",
     "output_type": "stream",
     "text": [
      "음식점_이름, 주소, 전화번호가 모두 같은 중복 행 개수: 997\n",
      "               음식점_이름                          주소            전화번호\n",
      "6           미스터피자 대치점           서울특별시 강남구 삼성로 349  0507-1374-0454\n",
      "7           베이징코야 강남점   서울특별시 강남구 영동대로86길 17 육인빌딩     02-558-7905\n",
      "8                 삼바리  서울특별시 강남구 압구정로2길 46 1층 삼바리  0507-1351-7567\n",
      "9                 고향집     서울특별시 강남구 언주로134길 17 1층     02-543-6363\n",
      "10               삼원가든           서울특별시 강남구 언주로 835     02-548-3030\n",
      "16            짱이네산곰장어        서울특별시 강남구 언주로 605 1층     02-514-3554\n",
      "22            늘푸른정육식당   서울특별시 강남구 학동로 219 국제빌딩 지층     02-516-3330\n",
      "23               페리카나         서울특별시 강남구 봉은사로43길 8     02-544-6086\n",
      "24               목련식당        서울특별시 강남구 도산대로30길 15     02-541-5858\n",
      "28               남호식당         서울특별시 강남구 논현로85길 23     02-552-9292\n",
      "29                해품달  서울특별시 강남구 밤고개로31길 9 완도전복마을  0507-1381-2290\n",
      "32  60년 전통 신촌황소곱창 논현점    서울특별시 강남구 봉은사로1길 37 지상1층     02-511-4632\n",
      "34             전주행복밥상      서울특별시 강남구 선릉로 514 성원빌딩     02-566-7394\n",
      "36                미소야         서울특별시 강남구 테헤란로4길 33     02-561-8686\n",
      "39            사리원 도곡점        서울특별시 강남구 남부순환로 2712     02-573-2202\n",
      "44             미도인 강남   서울특별시 강남구 영동대로86길 17 육인빌딩     02-558-7905\n",
      "46            신의주찹쌀순대          서울특별시 강남구 영동대로 725     02-511-9081\n",
      "50                일품향   서울특별시 강남구 선릉로64길 5 라이온스빌딩  0507-1314-9275\n",
      "52               시골밥상        서울특별시 강남구 논현로175길 68     02-546-1567\n",
      "53             내림손삼계탕        서울특별시 강남구 테헤란로84길 25     02-568-9626\n"
     ]
    }
   ],
   "source": [
    "dup_mask = df_no_missing_category.duplicated(subset=['음식점_이름', '주소', '전화번호'], keep=False)\n",
    "df_dups = df_no_missing_category[dup_mask]\n",
    "\n",
    "print(f\"음식점_이름, 주소, 전화번호가 모두 같은 중복 행 개수: {len(df_dups)}\")\n",
    "print(df_dups[['음식점_이름', '주소', '전화번호']].head(20))"
   ]
  },
  {
   "cell_type": "code",
   "execution_count": 28,
   "id": "ad14283c",
   "metadata": {},
   "outputs": [
    {
     "name": "stdout",
     "output_type": "stream",
     "text": [
      "중복 제거 후 전체 행 개수: 3536\n"
     ]
    }
   ],
   "source": [
    "# 첫 번째 값만 남기고 중복 제거\n",
    "df_unique = df.drop_duplicates(subset=['음식점_이름', '주소', '전화번호'], keep='first')\n",
    "\n",
    "print(f\"중복 제거 후 전체 행 개수: {len(df_unique)}\")"
   ]
  },
  {
   "cell_type": "code",
   "execution_count": 29,
   "id": "0c44dffb",
   "metadata": {},
   "outputs": [],
   "source": [
    "# 중복 그룹(전화번호+주소 모두 같은) 전체 마스크\n",
    "dupe_mask = df_unique.duplicated(subset=['주소', '전화번호'], keep=False)\n"
   ]
  },
  {
   "cell_type": "code",
   "execution_count": 34,
   "id": "b4e09c4f",
   "metadata": {},
   "outputs": [
    {
     "name": "stdout",
     "output_type": "stream",
     "text": [
      "           음식점_이름                             주소            전화번호\n",
      "2            원해분식    서울특별시 강남구 도산대로49길 10-6 젤로빌딩  0507-1479-5061\n",
      "3             취화선      서울특별시 강남구 영동대로86길 17 육인빌딩     02-558-7905\n",
      "4            삼성식당        서울특별시 강남구 봉은사로86길 30 1층  0507-1374-3082\n",
      "7            송원빌딩      서울특별시 강남구 영동대로86길 17 육인빌딩     02-558-7905\n",
      "8       베이징코야 강남점      서울특별시 강남구 영동대로86길 17 육인빌딩     02-558-7905\n",
      "...           ...                            ...             ...\n",
      "4132       현대정육식당            서울특별시 강남구 선릉로146길 5     02-540-7205\n",
      "4136       팬텀1574      서울특별시 강남구 영동대로86길 17 육인빌딩     02-558-7905\n",
      "4138           화류      서울특별시 강남구 영동대로86길 17 육인빌딩     02-558-7905\n",
      "4140  비에이치씨강남구청역점            서울특별시 강남구 학동로 305-3     02-515-3469\n",
      "4143     소노야 신사역점  서울특별시 강남구 도산대로15길 12 가로수빌딩 1층     02-545-0718\n",
      "\n",
      "[1416 rows x 3 columns]\n"
     ]
    }
   ],
   "source": [
    "# 중복 그룹 데이터만 확인\n",
    "df_dupes = df_unique[dupe_mask]\n",
    "\n",
    "# 주소가 NaN이 아닌 데이터만 남기기\n",
    "df_dupes_no_nan = df_dupes[df_dupes['주소'].notna()]\n",
    "\n",
    "# 결과 확인\n",
    "print(df_dupes_no_nan[['음식점_이름', '주소', '전화번호']])\n",
    "\n"
   ]
  }
 ],
 "metadata": {
  "kernelspec": {
   "display_name": "TablePick",
   "language": "python",
   "name": "python3"
  },
  "language_info": {
   "codemirror_mode": {
    "name": "ipython",
    "version": 3
   },
   "file_extension": ".py",
   "mimetype": "text/x-python",
   "name": "python",
   "nbconvert_exporter": "python",
   "pygments_lexer": "ipython3",
   "version": "3.12.9"
  }
 },
 "nbformat": 4,
 "nbformat_minor": 5
}

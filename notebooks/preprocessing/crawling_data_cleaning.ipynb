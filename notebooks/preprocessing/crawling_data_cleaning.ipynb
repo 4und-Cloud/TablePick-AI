{
 "cells": [
  {
   "cell_type": "code",
   "execution_count": 119,
   "id": "2a5e3221",
   "metadata": {},
   "outputs": [],
   "source": [
    "import pandas as pd\n",
    "\n",
    "# 1. CSV 파일 불러오기\n",
    "df = pd.read_csv('../../data/external/gangnam_crawling_restaurant_data.csv')\n"
   ]
  },
  {
   "cell_type": "code",
   "execution_count": 120,
   "id": "a025128b",
   "metadata": {},
   "outputs": [
    {
     "name": "stdout",
     "output_type": "stream",
     "text": [
      "음식점_이름    0\n",
      "카테고리      0\n",
      "주소        0\n",
      "dtype: int64\n",
      "Empty DataFrame\n",
      "Columns: [음식점_이름, 카테고리, 주소]\n",
      "Index: []\n"
     ]
    }
   ],
   "source": [
    "# 결측치 확인할 컬럼 리스트\n",
    "cols_to_check = ['음식점_이름', '카테고리', '주소']\n",
    "# 각 컬럼별 결측치 개수 출력\n",
    "print(df[cols_to_check].isnull().sum())\n",
    "\n",
    "# 결측치가 있는 행만 따로 보고 싶을 때\n",
    "missing_rows = df[df[cols_to_check].isnull().any(axis=1)]\n",
    "print(missing_rows[cols_to_check])"
   ]
  },
  {
   "cell_type": "code",
   "execution_count": 121,
   "id": "d164ecdd",
   "metadata": {},
   "outputs": [
    {
     "data": {
      "text/plain": [
       "카테고리\n",
       "한식          858\n",
       "카페,디저트      424\n",
       "육류,고기요리     381\n",
       "일식당         356\n",
       "중식당         293\n",
       "           ... \n",
       "서오릉피자         1\n",
       "밀키트           1\n",
       "방앗간           1\n",
       "폐백,이바지음식      1\n",
       "반려동물분양        1\n",
       "Name: count, Length: 261, dtype: int64"
      ]
     },
     "execution_count": 121,
     "metadata": {},
     "output_type": "execute_result"
    }
   ],
   "source": [
    "# '카테고리' 컬럼에 음식과 관련 없는 단어가 포함된 행 제거\n",
    "category = ['자동차', '세탁소', '심리상담', '영어회화', \n",
    "            '스포츠용품', '컨설팅', '취미,레저용품', '안경원', \n",
    "            '수입의류', '귀금속,시계', '요가원', '오피스텔', '문,창문', \n",
    "            '입시교육', '골프용품', '무용,발레', '의류대여', '왁싱,제모', \n",
    "            '안과', '신복관', '모델 에이전시', '중개업', '글쓰기,독서지도', \n",
    "            '척추,자세교정', '피아노', '미용교육', '이벤트,파티', '방송프로그램제작,공급', \n",
    "            '고시원,고시텔', '나무제품제조', '결혼예물', '전문사진촬영,처리', \n",
    "            '가구,인테리어', '해우리', '별관,부속', '3급', '수학교육', '오디오출판,원판녹음',\n",
    "            '정보 없음', '주방용품', '웨딩컨설팅,플래너', '도서관', '화장품,향수', '드럭스토어', \n",
    "            '임대업', '벽지,장판,마루', '모텔', '전시,판매', '경영컨설팅', '남성정장',\n",
    "            '실내골프연습장', '광고대행', '문구,팬시용품', '산부인과', '노래방', '목욕탕,사우나', \n",
    "            '병원,의원', '테마카페', '교습학원,교습소', '필라테스', '스크린골프장', '키즈카페,실내놀이터', \n",
    "            '플라워카페', '한의원', '영화관', '셀프,대여스튜디오', '프랜차이즈본사', '속눈썹증모,연장',\n",
    "            '종합패션', '스포츠시설', '복합문화공간', '여성의류', '소프트웨어개발', '애견카페', '웨딩드레스,예복', \n",
    "            '공방', '메이크업', '아파트', '종합도소매', '갤러리,화랑', '방탈출카페', '인테리어디자인', '꽃집,꽃배달', \n",
    "            '패션', '치과', '정형외과', '어린이집', '주택', '운세,사주', '사진,스튜디오', '네일아트,네일샵',\n",
    "            '성형외과', '기업,빌딩', '피부과', '보드카페', '피부,체형관리', '장소대여', '예식장',\n",
    "             '4성급' ]\n",
    "pattern = '|'.join(category)\n",
    "df_filtered = df[~df['카테고리'].str.contains(pattern)]\n",
    "df_filtered['카테고리'].value_counts()"
   ]
  },
  {
   "cell_type": "code",
   "execution_count": 122,
   "id": "c61c0d57",
   "metadata": {},
   "outputs": [
    {
     "name": "stdout",
     "output_type": "stream",
     "text": [
      "['1성급', '전문디자인', '고양이카페', '과자,사탕,초코렛', '가전제품수리', '요가,명상', '화장품제조', '한방카페', '예술품,골동품', '이비인후과', '연구,연구소', '경호,보안', '경기장', '광고,마케팅', '인테리어소품', '찜질방', '행사', '인터넷방송', '감성족발', '전문건설업', '5성급', '비뇨의학과', '복권,로또', '설계,엔지니어링', '애플스토어', '출장요리', '산후조리원', '시각디자인', '철물점', '건강검진', '가구', '캐주얼웨어', '쉐어하우스,하숙', '장난감', '건축설계', 'CCTV', '사철,영양탕', '산', '원단,섬유,직물', '주간신문', '수영용품', '배달대행', '수제화', '안마,마사지', '오니기리', '무역', '한일관', '호텔', '상품권판매', '클럽', '펄프,종이제조', '조경건설', '거리,골목', '목욕,찜질', '공연장', '가정의학과', '재봉틀,미싱', '약국', '실외골프연습장', 'JVL부대찌개', '대게요리', '닭장수후라이드', '스터디카페', '이북음식', '게이트나인', '오락실', '미용', '사주카페', '암벽등반', '스포츠,오락', '반려동물호텔', '고기뷔페', '엔터테인먼트', '정보통신,IT', '마카롱', '신떡순신천할매떡볶이', '일식,초밥뷔페', '배급업', '드럼', '건강기능보조식품', '쌀똑핫도그', '섬유,의류', '지원,대행', '기능성화장품', '와플', '화덕고깃간', '취미교육', '식물원,수목원', '개발,공급업', '생활협동조합', '머리염색', '금제품전문', '슈퍼,마트', '아동,청소년상담', '리스', '수입가구', '서오릉피자', '밀키트', '방앗간', '폐백,이바지음식', '반려동물분양']\n"
     ]
    }
   ],
   "source": [
    "value_counts = df_filtered['카테고리'].value_counts()\n",
    "categories_with_one = value_counts[value_counts == 1].index.tolist()\n",
    "print(categories_with_one)"
   ]
  },
  {
   "cell_type": "code",
   "execution_count": 123,
   "id": "e4afaff1",
   "metadata": {},
   "outputs": [
    {
     "data": {
      "text/plain": [
       "카테고리\n",
       "한식           858\n",
       "카페,디저트       424\n",
       "육류,고기요리      381\n",
       "일식당          356\n",
       "중식당          293\n",
       "            ... \n",
       "쌀똑핫도그          1\n",
       "서오릉피자          1\n",
       "화덕고깃간          1\n",
       "과자,사탕,초코렛      1\n",
       "감성족발           1\n",
       "Name: count, Length: 174, dtype: int64"
      ]
     },
     "execution_count": 123,
     "metadata": {},
     "output_type": "execute_result"
    }
   ],
   "source": [
    "# '카테고리' 컬럼에 음식과 관련 없는 단어가 포함된 행 제거\n",
    "category = ['복권,로또', '1성급', '가전제품수리', '고양이카페', '비뇨의학과', '요가,명상', \n",
    "            '화장품제조', '한방카페', '예술품,골동품', '이비인후과', '연구,연구소', '경호,보안', \n",
    "            '전문디자인', '찜질방', '인테리어소품', '경기장', '행사', '광고,마케팅', '전문건설업', \n",
    "            '5성급', '인터넷방송', '설계,엔지니어링', '애플스토어', '출장요리', '산후조리원', '시각디자인', \n",
    "            '철물점', '건강검진', '가구', '캐주얼웨어', '쉐어하우스,하숙', '장난감', '건축설계', 'CCTV', \n",
    "            '산', '원단,섬유,직물', '주간신문', '수영용품', '배달대행', '수제화', '안마,마사지', \n",
    "            '무역', '한일관', '호텔', '상품권판매', '클럽', '펄프,종이제조', '조경건설', '거리,골목', \n",
    "            '목욕,찜질', '공연장', '가정의학과', '재봉틀,미싱', '약국', '실외골프연습장', '스터디카페', \n",
    "             '게이트나인', '오락실', '미용', '사주카페', '암벽등반', '스포츠,오락', '반려동물호텔', \n",
    "             '엔터테인먼트', '정보통신,IT', '배급업', '드럼', '건강기능보조식품', '지원,대행', '기능성화장품', \n",
    "             '취미교육', '식물원,수목원', '개발,공급업', '생활협동조합', '머리염색', '금제품전문', '슈퍼,마트', \n",
    "             '아동,청소년상담', '리스', '수입가구', '밀키트', '방앗간', '폐백,이바지음식', '반려동물분양',\n",
    "             '오디오출판,원판녹음' , '임대업']\n",
    "pattern = '|'.join(category)\n",
    "df_filtered = df_filtered[~df_filtered['카테고리'].str.contains(pattern)]\n",
    "df_filtered['카테고리'].value_counts()"
   ]
  },
  {
   "cell_type": "code",
   "execution_count": 124,
   "id": "17b2d271",
   "metadata": {},
   "outputs": [
    {
     "name": "stdout",
     "output_type": "stream",
     "text": [
      "['2성급', '쌈밥', '야식', '식품', '신발', '정육점', '오므라이스', '채식,샐러드뷔페', '당구장', '편의점', '음식점', '기사식당', '막국수', '보리밥', '헬스장', '홍차전문점', '식료품', '미술교육', '개신교', '차,커피', '강화통통생고기', '바닷가재요리', '가방,핸드백', '요리교육', '만화방', '호두과자', '북카페', '수입식품', '우유,유제품', '초콜릿전문점', '영어교육', '떡,한과', '유흥주점']\n"
     ]
    }
   ],
   "source": [
    "value_counts = df_filtered['카테고리'].value_counts()\n",
    "categories_with_two = value_counts[value_counts == 2].index.tolist()\n",
    "print(categories_with_two)"
   ]
  },
  {
   "cell_type": "code",
   "execution_count": 125,
   "id": "c9d460c1",
   "metadata": {},
   "outputs": [
    {
     "data": {
      "text/plain": [
       "카테고리\n",
       "한식           858\n",
       "카페,디저트       424\n",
       "육류,고기요리      381\n",
       "일식당          356\n",
       "중식당          293\n",
       "            ... \n",
       "일식,초밥뷔페        1\n",
       "서오릉피자          1\n",
       "화덕고깃간          1\n",
       "과자,사탕,초코렛      1\n",
       "감성족발           1\n",
       "Name: count, Length: 156, dtype: int64"
      ]
     },
     "execution_count": 125,
     "metadata": {},
     "output_type": "execute_result"
    }
   ],
   "source": [
    "# '카테고리' 컬럼에 음식과 관련 없는 단어가 포함된 행 제거\n",
    "category = ['2성급', '신발', '정육점', '당구장', '편의점', '식품', '헬스장', '식료품', '미술교육', '개신교',\n",
    "            '가방,핸드백', '요리교육', '만화방', '수입식품', '영어교육', '유흥주점']\n",
    "pattern = '|'.join(category)\n",
    "df_filtered = df_filtered[~df_filtered['카테고리'].str.contains(pattern)]\n",
    "df_filtered['카테고리'].value_counts()"
   ]
  },
  {
   "cell_type": "code",
   "execution_count": 126,
   "id": "5a68cd4c",
   "metadata": {},
   "outputs": [
    {
     "name": "stdout",
     "output_type": "stream",
     "text": [
      "['전복요리', '힐링카페', '커피가공,제조', '터키음식', '도넛', '육류가공,제조', '한복']\n"
     ]
    }
   ],
   "source": [
    "value_counts = df_filtered['카테고리'].value_counts()\n",
    "categories_with_three = value_counts[value_counts == 3].index.tolist()\n",
    "print(categories_with_three)"
   ]
  },
  {
   "cell_type": "code",
   "execution_count": 127,
   "id": "6d0d4c03",
   "metadata": {},
   "outputs": [
    {
     "data": {
      "text/plain": [
       "카테고리\n",
       "한식           858\n",
       "카페,디저트       424\n",
       "육류,고기요리      381\n",
       "일식당          356\n",
       "중식당          293\n",
       "            ... \n",
       "일식,초밥뷔페        1\n",
       "서오릉피자          1\n",
       "화덕고깃간          1\n",
       "과자,사탕,초코렛      1\n",
       "감성족발           1\n",
       "Name: count, Length: 153, dtype: int64"
      ]
     },
     "execution_count": 127,
     "metadata": {},
     "output_type": "execute_result"
    }
   ],
   "source": [
    "# '카테고리' 컬럼에 음식과 관련 없는 단어가 포함된 행 제거\n",
    "category = ['2성급', '신발', '정육점', '당구장', '편의점', '식품', '헬스장', '식료품', '미술교육', '개신교',\n",
    "            '가방,핸드백', '요리교육', '만화방', '수입식품', '영어교육', '유흥주점', '육류가공,제조', '한복',\n",
    "            '4성급', '심리상담','기업']\n",
    "pattern = '|'.join(category)\n",
    "df_filtered = df_filtered[~df_filtered['카테고리'].str.contains(pattern)]\n",
    "df_filtered['카테고리'].value_counts()"
   ]
  },
  {
   "cell_type": "code",
   "execution_count": 128,
   "id": "0d373a43",
   "metadata": {},
   "outputs": [
    {
     "name": "stdout",
     "output_type": "stream",
     "text": [
      "중복 제거 전 데이터 수: 7407\n",
      "\n",
      "중복 확인:\n",
      "중복된 행의 수: 1506\n"
     ]
    }
   ],
   "source": [
    "print(\"중복 제거 전 데이터 수:\", len(df_filtered))\n",
    "print(\"\\n중복 확인:\")\n",
    "duplicates = df_filtered.duplicated(subset=['음식점_이름', '주소'], keep=False)\n",
    "print(f\"중복된 행의 수: {duplicates.sum()}\")"
   ]
  },
  {
   "cell_type": "code",
   "execution_count": 129,
   "id": "1dfd6620",
   "metadata": {},
   "outputs": [
    {
     "name": "stdout",
     "output_type": "stream",
     "text": [
      "스마트 중복 제거 후 데이터 수: 6554\n"
     ]
    }
   ],
   "source": [
    "# 방법 3: 더 세밀한 중복 제거 (NaN 값 고려)\n",
    "def remove_duplicates_smart(df):\n",
    "    \"\"\"\n",
    "    음식점_이름과 주소가 같은 중복을 제거하되, \n",
    "    더 많은 정보를 가진 행을 우선적으로 유지\n",
    "    \"\"\"\n",
    "    # 각 행의 비어있지 않은 컬럼 수 계산\n",
    "    df_temp = df.copy()\n",
    "    df_temp['info_count'] = df_temp.notna().sum(axis=1)\n",
    "    \n",
    "    # 음식점_이름과 주소로 그룹화하여 정보가 가장 많은 행만 유지\n",
    "    df_result = df_temp.loc[df_temp.groupby(['음식점_이름', '주소'])['info_count'].idxmax()]\n",
    "    \n",
    "    # info_count 컬럼 제거\n",
    "    df_result = df_result.drop('info_count', axis=1)\n",
    "    \n",
    "    return df_result\n",
    "\n",
    "# 스마트 중복 제거 실행\n",
    "df_smart_dedup = remove_duplicates_smart(df_filtered)\n",
    "print(f\"스마트 중복 제거 후 데이터 수: {len(df_smart_dedup)}\")\n"
   ]
  },
  {
   "cell_type": "code",
   "execution_count": 130,
   "id": "6b6f8c70",
   "metadata": {},
   "outputs": [
    {
     "name": "stdout",
     "output_type": "stream",
     "text": [
      "중복 제거 전 데이터 수: 6554\n",
      "\n",
      "중복 확인:\n",
      "중복된 행의 수: 0\n"
     ]
    }
   ],
   "source": [
    "print(\"중복 제거 전 데이터 수:\", len(df_smart_dedup))\n",
    "print(\"\\n중복 확인:\")\n",
    "duplicates = df_smart_dedup.duplicated(subset=['음식점_이름', '주소'], keep=False)\n",
    "print(f\"중복된 행의 수: {duplicates.sum()}\")"
   ]
  },
  {
   "cell_type": "code",
   "execution_count": 131,
   "id": "b53187ce",
   "metadata": {},
   "outputs": [
    {
     "name": "stdout",
     "output_type": "stream",
     "text": [
      "\n",
      "=== 카테고리 리스트 형태 ===\n",
      "['한식', '돈가스', '카페,디저트', '양식', '브런치', '요리주점', '국수', '돼지고기구이', '낙지요리', '곰탕,설렁탕', '육류,고기요리', '곱창,막창,양', '카페', '중식당', '와인', '닭발', '해물,생선요리', '국밥', '이탈리아음식', '피자', '술집', '덮밥', '치킨,닭강정', '라이브카페', '바(BAR)', '냉면', '소고기구이', '이자카야', '맥주,호프', '햄버거', '포장마차', '뷔페', '케이크전문', '프랑스음식', '다이어트,샐러드', '김밥', '도시락,컵밥', 'JVL부대찌개', '스테이크,립', '마라탕', '베이커리', '아이스크림', '일식당', '찌개,전골', '감자탕', '족발,보쌈', '한정식', '백반,가정식', '종합분식', '떡,한과', '백숙,삼계탕', '한식뷔페', '감성족발', '초밥,롤', '멕시코,남미음식', '일본식라면', '인도음식', '매운탕,해물탕', '생선회', '칼국수,만두', '우동,소바', '푸드코트', '닭갈비', '베트남음식', '두부요리', '순대,순댓국', '강화통통생고기', '갤러리카페', '조개요리', '정육식당', '양꼬치', '닭볶음탕', '양갈비', '주류', '떡볶이', '스파게티,파스타전문', '분식', '차', '과일,주스전문점', '갈비탕', '전,빈대떡', '전통,민속주점', '복어요리', '만두', '오뎅,꼬치', '스페인음식', '샤브샤브', '반찬가게', '오리요리', '일식튀김,꼬치', '홍차전문점', '게요리', '태국음식', '장어,먹장어요리', '추어탕', '찜닭', '패밀리레스토랑', '오징어요리', '닭요리', '베이글', '이북음식', '주꾸미요리', '닭장수후라이드', '브런치카페', '빙수', '음식점', '도넛', '카레', '퓨전음식', '기사식당', '와플', '죽', '테이크아웃커피', '딤섬,중식만두', '해장국', '차,커피', '샌드위치', '바닷가재요리', '채식,샐러드뷔페', '핫도그', '커피가공,제조', '우유,유제품', '아귀찜,해물찜', '막국수', '생선구이', '섬유,의류', '아시아음식', '바나프레소', '호두과자', '마카롱', '보리밥', '비빔밥', '서오릉피자', '북카페', '힐링카페', '과자,사탕,초코렛', '스파게티스토리', '신떡순신천할매떡볶이', '쌀똑핫도그', '초콜릿전문점', '야식', '쌈밥', '오니기리', '향토음식', '오므라이스', '토스트', '사철,영양탕', '전복요리', '대게요리', '터키음식', '일식,초밥뷔페', '화덕고깃간', '고기뷔페']\n"
     ]
    }
   ],
   "source": [
    "# 카테고리를 리스트 형태로 출력 (복사하기 쉽게)\n",
    "print(\"\\n=== 카테고리 리스트 형태 ===\")\n",
    "category_list = df_smart_dedup['카테고리'].unique().tolist()\n",
    "print(category_list)\n"
   ]
  },
  {
   "cell_type": "code",
   "execution_count": 132,
   "id": "2d12aa60",
   "metadata": {},
   "outputs": [
    {
     "name": "stdout",
     "output_type": "stream",
     "text": [
      "전체 데이터: 6554개\n",
      "강남구 포함: 6379개 (97.3%)\n",
      "강남구 미포함: 175개 (2.7%)\n"
     ]
    }
   ],
   "source": [
    "# 전체 데이터와 비교해서 비율도 확인\n",
    "total_rows = len(df_smart_dedup)\n",
    "gangnam_rows = df_smart_dedup[df_smart_dedup['주소'].str.contains('강남구', na=False)].shape[0]\n",
    "not_gangnam_rows = total_rows - gangnam_rows\n",
    "\n",
    "print(f\"전체 데이터: {total_rows}개\")\n",
    "print(f\"강남구 포함: {gangnam_rows}개 ({gangnam_rows/total_rows*100:.1f}%)\")\n",
    "print(f\"강남구 미포함: {not_gangnam_rows}개 ({not_gangnam_rows/total_rows*100:.1f}%)\")\n"
   ]
  },
  {
   "cell_type": "code",
   "execution_count": 133,
   "id": "6585256e",
   "metadata": {},
   "outputs": [
    {
     "name": "stdout",
     "output_type": "stream",
     "text": [
      "\n",
      "삭제 후 데이터 수: 6379\n",
      "삭제된 행 수: 175\n"
     ]
    }
   ],
   "source": [
    "# 강남구 포함 데이터만 남기고 나머지 삭제\n",
    "df_gangnam_only = df_smart_dedup[df_smart_dedup['주소'].str.contains('강남구', na=False)].copy()\n",
    "\n",
    "# 인덱스 재설정\n",
    "df_gangnam_only = df_gangnam_only.reset_index(drop=True)\n",
    "\n",
    "print(f\"\\n삭제 후 데이터 수: {len(df_gangnam_only)}\")\n",
    "print(f\"삭제된 행 수: {total_rows - len(df_gangnam_only)}\")\n"
   ]
  },
  {
   "cell_type": "code",
   "execution_count": 134,
   "id": "dbadee64",
   "metadata": {},
   "outputs": [
    {
     "name": "stdout",
     "output_type": "stream",
     "text": [
      "'정보 없음'인 영업시간 행 수: 644\n",
      "변경 후 '정보 없음'인 행 수: 0\n",
      "새로운 영업시간으로 변경된 행 수: 644\n"
     ]
    }
   ],
   "source": [
    "# 영업시간이 \"정보 없음\"인 행 확인\n",
    "missing_hours = df_gangnam_only[df_gangnam_only['영업시간'] == '정보 없음']\n",
    "print(f\"'정보 없음'인 영업시간 행 수: {len(missing_hours)}\")\n",
    "\n",
    "# 임의의 영업시간 값 정의\n",
    "default_hours = \"월: 11:00 - 21:00; 화: 11:00 - 21:00; 수: 11:00 - 21:00; 목: 11:00 - 21:00; 금: 11:00 - 21:00; 토: 11:00 - 21:00; 일: 11:00 - 21:00;\"\n",
    "\n",
    "# \"정보 없음\"을 임의의 값으로 변경\n",
    "df_gangnam_only['영업시간'] = df_gangnam_only['영업시간'].replace('정보 없음', default_hours)\n",
    "\n",
    "# 변경 결과 확인\n",
    "print(f\"변경 후 '정보 없음'인 행 수: {len(df_gangnam_only[df_gangnam_only['영업시간'] == '정보 없음'])}\")\n",
    "print(f\"새로운 영업시간으로 변경된 행 수: {len(df_gangnam_only[df_gangnam_only['영업시간'] == default_hours])}\")"
   ]
  },
  {
   "cell_type": "code",
   "execution_count": 135,
   "id": "b3c5c992",
   "metadata": {},
   "outputs": [
    {
     "name": "stdout",
     "output_type": "stream",
     "text": [
      "\n",
      "=== 테스트 케이스 1 ===\n",
      "입력: 매일: 10:00 - 21:00\n",
      "결과: {\"월요일\": \"오전 10:00~오후 9:00\", \"화요일\": \"오전 10:00~오후 9:00\", \"수요일\": \"오전 10:00~오후 9:00\", \"목요일\": \"오전 10:00~오후 9:00\", \"금요일\": \"오전 10:00~오후 9:00\", \"토요일\": \"오전 10:00~오후 9:00\", \"일요일\": \"오전 10:00~오후 9:00\"}\n",
      "\n",
      "=== 테스트 케이스 2 ===\n",
      "입력: 토: 11:00 - 20:30; 일: 정기휴무 (매주 일요일); 월: 11:00 - 20:30; 화: 11:00 - 20:30; 수: 11:00 - 20:30; 목: 11:00 - 20:30; 금: 11:00 - 20:30\n",
      "결과: {\"월요일\": \"오전 11:00~오후 8:30\", \"화요일\": \"오전 11:00~오후 8:30\", \"수요일\": \"오전 11:00~오후 8:30\", \"목요일\": \"오전 11:00~오후 8:30\", \"금요일\": \"오전 11:00~오후 8:30\", \"토요일\": \"오전 11:00~오후 8:30\", \"일요일\": \"휴무일\"}\n",
      "\n",
      "=== 테스트 케이스 3 ===\n",
      "입력: 토: 11:00 - 21:30; 20:30 라스트오더; 일: 11:00 - 21:30; 20:30 라스트오더; 월: 11:00 - 21:30; 20:30 라스트오더; 화: 11:00 - 21:30; 20:30 라스트오더; 수: 11:00 - 21:30; 20:30 라스트오더; 목: 11:00 - 21:30; 20:30 라스트오더; 금: 11:00 - 21:30; 20:30 라스트오더\n",
      "결과: {\"월요일\": \"오전 11:00~오후 9:30\", \"화요일\": \"오전 11:00~오후 9:30\", \"수요일\": \"오전 11:00~오후 9:30\", \"목요일\": \"오전 11:00~오후 9:30\", \"금요일\": \"오전 11:00~오후 9:30\", \"토요일\": \"오전 11:00~오후 9:30\", \"일요일\": \"오전 11:00~오후 9:30\"}\n",
      "\n",
      "영업시간 변환 중...\n",
      "진행률: 1000/6379\n",
      "진행률: 2000/6379\n",
      "진행률: 3000/6379\n",
      "진행률: 4000/6379\n",
      "진행률: 5000/6379\n",
      "진행률: 6000/6379\n",
      "변환 완료! 총 6379개 행 처리됨\n",
      "\n",
      "변환된 영업시간 샘플:\n",
      "행 0: {\"월요일\": \"오후 6:00~오전 3:00\", \"화요일\": \"오후 6:00~오전 3:00\", \"수요일\": \"오후 6:00~오전 3:00\", \"목요일\": \"오후 6:00~오전 3:00\", \"금요일\": \"오후 6:00~오전 4:00\", \"토요일\": \"오후 6:00~오전 4:00\", \"일요일\": \"휴무일\"}\n",
      "행 1: {\"월요일\": \"오전 11:00~오후 9:00\", \"화요일\": \"오전 11:00~오후 9:00\", \"수요일\": \"오전 11:00~오후 9:00\", \"목요일\": \"오전 11:00~오후 9:00\", \"금요일\": \"오전 11:00~오후 9:00\", \"토요일\": \"오전 11:00~오후 9:00\", \"일요일\": \"오전 11:00~오후 9:00\"}\n",
      "행 2: {\"월요일\": \"오전 11:00~오후 10:00\", \"화요일\": \"오전 11:00~오후 10:00\", \"수요일\": \"오전 11:00~오후 10:00\", \"목요일\": \"오전 11:00~오후 10:00\", \"금요일\": \"오전 11:00~오후 10:00\", \"토요일\": \"오전 11:00~오후 10:00\", \"일요일\": \"오전 11:00~오후 10:00\"}\n",
      "행 3: {\"월요일\": \"휴무일\", \"화요일\": \"오후 12:00~오후 10:30\", \"수요일\": \"오후 12:00~오후 10:30\", \"목요일\": \"오후 12:00~오후 10:30\", \"금요일\": \"오후 12:00~오후 10:30\", \"토요일\": \"오후 12:00~오후 10:30\", \"일요일\": \"오후 12:00~오후 5:00\"}\n",
      "행 4: {\"월요일\": \"오전 10:00~오전 2:00\", \"화요일\": \"오전 10:00~오전 2:00\", \"수요일\": \"오전 10:00~오전 2:00\", \"목요일\": \"오전 10:00~오전 2:00\", \"금요일\": \"오전 10:00~오전 2:00\", \"토요일\": \"휴무일\", \"일요일\": \"오전 11:00~오후 12:00\"}\n"
     ]
    }
   ],
   "source": [
    "import pandas as pd\n",
    "import json\n",
    "import re\n",
    "\n",
    "def convert_business_hours(hours_text):\n",
    "    \"\"\"\n",
    "    영업시간 텍스트를 요일별 JSON 형식으로 변환 (리스트 대신 문자열 사용)\n",
    "    \"\"\"\n",
    "    # 기본 템플릿 (리스트 대신 문자열로 초기화)\n",
    "    result = {\n",
    "        '월요일': '정보 없음',\n",
    "        '화요일': '정보 없음',\n",
    "        '수요일': '정보 없음',\n",
    "        '목요일': '정보 없음',\n",
    "        '금요일': '정보 없음',\n",
    "        '토요일': '정보 없음',\n",
    "        '일요일': '정보 없음'\n",
    "    }\n",
    "    \n",
    "    # 입력 검증\n",
    "    if pd.isna(hours_text) or not hours_text or str(hours_text).strip() == \"\":\n",
    "        return json.dumps(result, ensure_ascii=False)\n",
    "    \n",
    "    hours_text = str(hours_text).strip()\n",
    "    \n",
    "    # \"매일:\" 패턴 처리\n",
    "    if \"매일:\" in hours_text:\n",
    "        time_part = hours_text.replace(\"매일:\", \"\").strip()\n",
    "        formatted_time = format_time_range(time_part)\n",
    "        for day in result.keys():\n",
    "            result[day] = formatted_time if formatted_time != \"정보 없음\" else '정보 없음'\n",
    "        return json.dumps(result, ensure_ascii=False)\n",
    "    \n",
    "    # 요일별 처리\n",
    "    day_mapping = {\n",
    "        '월': '월요일', '화': '화요일', '수': '수요일', '목': '목요일',\n",
    "        '금': '금요일', '토': '토요일', '일': '일요일'\n",
    "    }\n",
    "    \n",
    "    # 세미콜론으로 구분된 요일별 정보 파싱\n",
    "    parts = hours_text.split(';')\n",
    "    \n",
    "    # 처리된 요일 추적\n",
    "    processed_days = set()\n",
    "    \n",
    "    for part in parts:\n",
    "        part = part.strip()\n",
    "        if not part:\n",
    "            continue\n",
    "            \n",
    "        # 요일: 시간 형식 찾기\n",
    "        for day_abbr, day_full in day_mapping.items():\n",
    "            if part.startswith(day_abbr + ':'):\n",
    "                time_part = part.replace(day_abbr + ':', '').strip()\n",
    "                \n",
    "                # 휴무일 체크\n",
    "                if '휴무' in time_part or '정기휴무' in time_part:\n",
    "                    result[day_full] = '휴무일'\n",
    "                else:\n",
    "                    # 시간 변환\n",
    "                    formatted_time = format_time_range(time_part)\n",
    "                    result[day_full] = formatted_time if formatted_time != \"정보 없음\" else '정보 없음'\n",
    "                \n",
    "                processed_days.add(day_full)\n",
    "                break\n",
    "    \n",
    "    return json.dumps(result, ensure_ascii=False)\n",
    "\n",
    "def format_time_range(time_str):\n",
    "    \"\"\"\n",
    "    시간 범위를 \"오전/오후 HH:MM~오전/오후 HH:MM\" 형식으로 변환\n",
    "    \"\"\"\n",
    "    if not time_str or pd.isna(time_str):\n",
    "        return \"정보 없음\"\n",
    "    \n",
    "    time_str = str(time_str).strip()\n",
    "    \n",
    "    # 라스트오더, 브레이크타임 제거\n",
    "    time_str = re.sub(r';\\s*\\d{1,2}:\\d{2}\\s*라스트오더', '', time_str)\n",
    "    time_str = re.sub(r'라스트오더.*', '', time_str)\n",
    "    time_str = re.sub(r'브레이크타임.*', '', time_str)\n",
    "    time_str = time_str.strip()\n",
    "    \n",
    "    # 시간 패턴 찾기 (예: \"10:00 - 21:00\")\n",
    "    time_pattern = r'(\\d{1,2}):(\\d{2})\\s*-\\s*(\\d{1,2}):(\\d{2})'\n",
    "    match = re.search(time_pattern, time_str)\n",
    "    \n",
    "    if match:\n",
    "        start_hour, start_min, end_hour, end_min = match.groups()\n",
    "        start_hour, end_hour = int(start_hour), int(end_hour)\n",
    "        \n",
    "        # 오전/오후 변환\n",
    "        start_period = \"오전\" if start_hour < 12 else \"오후\"\n",
    "        end_period = \"오전\" if end_hour < 12 else \"오후\"\n",
    "        \n",
    "        # 12시간 형식으로 변환\n",
    "        start_display = start_hour\n",
    "        end_display = end_hour\n",
    "        \n",
    "        if start_hour == 0:\n",
    "            start_display = 12\n",
    "            start_period = \"오전\"\n",
    "        elif start_hour > 12:\n",
    "            start_display = start_hour - 12\n",
    "            start_period = \"오후\"\n",
    "        elif start_hour == 12:\n",
    "            start_period = \"오후\"\n",
    "            \n",
    "        if end_hour == 0:\n",
    "            end_display = 12\n",
    "            end_period = \"오전\"\n",
    "        elif end_hour > 12:\n",
    "            end_display = end_hour - 12\n",
    "            end_period = \"오후\"\n",
    "        elif end_hour == 12:\n",
    "            end_period = \"오후\"\n",
    "        \n",
    "        return f\"{start_period} {start_display}:{start_min}~{end_period} {end_display}:{end_min}\"\n",
    "    \n",
    "    return \"정보 없음\"\n",
    "\n",
    "# 테스트용 함수\n",
    "def test_conversion():\n",
    "    test_cases = [\n",
    "        \"매일: 10:00 - 21:00\",\n",
    "        \"토: 11:00 - 20:30; 일: 정기휴무 (매주 일요일); 월: 11:00 - 20:30; 화: 11:00 - 20:30; 수: 11:00 - 20:30; 목: 11:00 - 20:30; 금: 11:00 - 20:30\",\n",
    "        \"토: 11:00 - 21:30; 20:30 라스트오더; 일: 11:00 - 21:30; 20:30 라스트오더; 월: 11:00 - 21:30; 20:30 라스트오더; 화: 11:00 - 21:30; 20:30 라스트오더; 수: 11:00 - 21:30; 20:30 라스트오더; 목: 11:00 - 21:30; 20:30 라스트오더; 금: 11:00 - 21:30; 20:30 라스트오더\"\n",
    "    ]\n",
    "    \n",
    "    for i, test_case in enumerate(test_cases, 1):\n",
    "        print(f\"\\n=== 테스트 케이스 {i} ===\")\n",
    "        print(f\"입력: {test_case}\")\n",
    "        result = convert_business_hours(test_case)\n",
    "        print(f\"결과: {result}\")\n",
    "\n",
    "# 테스트 실행\n",
    "test_conversion()\n",
    "\n",
    "# 실제 데이터에 적용\n",
    "print(\"\\n영업시간 변환 중...\")\n",
    "\n",
    "converted_hours = []\n",
    "for idx, hours in enumerate(df_gangnam_only['영업시간']):\n",
    "    try:\n",
    "        converted = convert_business_hours(hours)\n",
    "        converted_hours.append(converted)\n",
    "        \n",
    "        if (idx + 1) % 1000 == 0:\n",
    "            print(f\"진행률: {idx + 1}/{len(df_gangnam_only)}\")\n",
    "            \n",
    "    except Exception as e:\n",
    "        print(f\"오류 발생 (행 {idx}): {e}\")\n",
    "        print(f\"문제 데이터: {hours}\")\n",
    "        # 오류 발생 시 기본값 사용\n",
    "        default_result = {day: '정보 없음' for day in ['월요일', '화요일', '수요일', '목요일', '금요일', '토요일', '일요일']}\n",
    "        converted_hours.append(json.dumps(default_result, ensure_ascii=False))\n",
    "\n",
    "# 새로운 컬럼에 할당\n",
    "df_gangnam_only['영업시간'] = converted_hours\n",
    "\n",
    "print(f\"변환 완료! 총 {len(df_gangnam_only)}개 행 처리됨\")\n",
    "\n",
    "# 결과 확인\n",
    "print(\"\\n변환된 영업시간 샘플:\")\n",
    "for i in range(min(5, len(df_gangnam_only))):\n",
    "    print(f\"행 {i}: {df_gangnam_only.iloc[i]['영업시간']}\")"
   ]
  },
  {
   "cell_type": "code",
   "execution_count": 136,
   "id": "762f36aa",
   "metadata": {},
   "outputs": [
    {
     "name": "stdout",
     "output_type": "stream",
     "text": [
      "강남구 음식점 데이터가 ../../data/preprocessed/gangnam_restaurants_final.csv에 저장되었습니다.\n",
      "저장된 데이터 수: 6379개\n"
     ]
    }
   ],
   "source": [
    "# 최종 전처리된 데이터를 CSV 파일로 저장\n",
    "output_file = \"../../data/preprocessed/gangnam_restaurants_final.csv\"\n",
    "df_gangnam_only.to_csv(output_file, index=False, encoding='utf-8-sig')\n",
    "\n",
    "print(f\"강남구 음식점 데이터가 {output_file}에 저장되었습니다.\")\n",
    "print(f\"저장된 데이터 수: {len(df_gangnam_only)}개\")\n"
   ]
  },
  {
   "cell_type": "code",
   "execution_count": 140,
   "id": "4d7a97a1",
   "metadata": {},
   "outputs": [
    {
     "name": "stdout",
     "output_type": "stream",
     "text": [
      "            음식점_이름                                             음식점_사진  \\\n",
      "0    0910멸치집 논현직영점  https://search.pstatic.net/common/?autoRotate=...   \n",
      "1  101번지 남산돈까스 대치점  https://search.pstatic.net/common/?autoRotate=...   \n",
      "2          106길 15  https://search.pstatic.net/common/?autoRotate=...   \n",
      "3           10월19일  https://search.pstatic.net/common/?autoRotate=...   \n",
      "4              13월  https://search.pstatic.net/common/?autoRotate=...   \n",
      "\n",
      "                                주소    카테고리            전화번호  \\\n",
      "0            서울 강남구 강남대로118길 20 1층      한식    02-3444-0910   \n",
      "1  서울 강남구 도곡로63길 27 1층 101번지 남산돈까스     돈가스   070-7757-3147   \n",
      "2          서울 강남구 강남대로106길 15 지하1층  카페,디저트  0507-1436-8521   \n",
      "3             서울 강남구 테헤란로77길 43 1층      양식           정보 없음   \n",
      "4          서울 강남구 논현로8길 12 1층 101호     브런치  0507-1390-5808   \n",
      "\n",
      "                                                영업시간  \\\n",
      "0  {\"월요일\": \"오후 6:00~오전 3:00\", \"화요일\": \"오후 6:00~오전 ...   \n",
      "1  {\"월요일\": \"오전 11:00~오후 9:00\", \"화요일\": \"오전 11:00~오...   \n",
      "2  {\"월요일\": \"오전 11:00~오후 10:00\", \"화요일\": \"오전 11:00~...   \n",
      "3  {\"월요일\": \"휴무일\", \"화요일\": \"오후 12:00~오후 10:30\", \"수요...   \n",
      "4  {\"월요일\": \"오전 10:00~오전 2:00\", \"화요일\": \"오전 10:00~오...   \n",
      "\n",
      "                                               메뉴_정보  \\\n",
      "0  [{\"메뉴명\": \"멸치회무침\", \"가격\": \"25,000\"}, {\"메뉴명\": \"멸치...   \n",
      "1  [{\"메뉴명\": \"남산왕돈까스\", \"가격\": \"13,000\"}, {\"메뉴명\": \"모...   \n",
      "2  [{\"메뉴명\": \"미숫페너\", \"가격\": \"5,500\"}, {\"메뉴명\": \"아메리카...   \n",
      "3  [{\"메뉴명\": \"디너 코스\", \"가격\": \"75,000\"}, {\"메뉴명\": \"겨울...   \n",
      "4  [{\"메뉴명\": \"부채살라구파스타\", \"가격\": \"16,900\"}, {\"메뉴명\": ...   \n",
      "\n",
      "                                                  리뷰         위도          경도  \n",
      "0  [{\"태그\": [\"음식이 맛있어요\", \"인테리어가 멋져요\", \"아늑해요\"], \"게시...  37.506590  127.025063  \n",
      "1  [{\"태그\": [\"인테리어가 멋져요\", \"친절해요\", \"매장이 청결해요\", \"음식이...  37.498766  127.053590  \n",
      "2  [{\"태그\": [\"친절해요\", \"매장이 넓어요\", \"아늑해요\"], \"게시글\": \"무...  37.503128  127.026786  \n",
      "3  [{\"태그\": [\"음식이 맛있어요\", \"재료가 신선해요\", \"특별한 메뉴가 있어요\"...  37.509109  127.053220  \n",
      "4  [{\"태그\": [\"음식이 맛있어요\", \"가성비가 좋아요\", \"인테리어가 멋져요\", ...  37.473829  127.050040  \n"
     ]
    }
   ],
   "source": [
    "import pandas as pd\n",
    "df_final = pd.read_csv(\"../../data/preprocessed/gangnam_restaurants_with_coordinates.csv\")\n",
    "\n",
    "columns_to_drop = ['정제된_주소', '지오코딩_상태']\n",
    "df_final = df_final.drop(columns=[col for col in columns_to_drop if col in df_final.columns])\n",
    "\n",
    "# 결과 확인\n",
    "print(df_final.head())\n"
   ]
  },
  {
   "cell_type": "code",
   "execution_count": 141,
   "id": "1fe101ac",
   "metadata": {},
   "outputs": [
    {
     "name": "stdout",
     "output_type": "stream",
     "text": [
      "정리된 데이터가 저장되었습니다.\n"
     ]
    }
   ],
   "source": [
    "# 정리된 데이터를 CSV로 저장\n",
    "df_final.to_csv(\"../../data/preprocessed/gangnam_restaurants.csv\", \n",
    "          index=False, encoding='utf-8-sig')\n",
    "print(\"정리된 데이터가 저장되었습니다.\")"
   ]
  },
  {
   "cell_type": "code",
   "execution_count": 1,
   "id": "04200d58",
   "metadata": {},
   "outputs": [
    {
     "name": "stdout",
     "output_type": "stream",
     "text": [
      "리뷰 데이터에 작성 시간을 추가하는 중...\n",
      "작업 완료! 업데이트된 파일이 '../../data/preprocessed/gangnam_restaurants_cleaned_data.csv'으로 저장되었습니다.\n",
      "\n",
      "=== 업데이트된 리뷰 샘플 ===\n",
      "\n",
      "리뷰 1:\n",
      "  태그: ['음식이 맛있어요', '인테리어가 멋져요', '아늑해요']\n",
      "  작성시간: 2025-05-07T17:43:27\n",
      "  게시글: 튀김 진짜 맛있어요~~\n",
      "김치우동 2다리 맛이랑 비슷하고 가볍게 한잔 더 하러 가시 좋아요!...\n",
      "\n",
      "리뷰 2:\n",
      "  태그: ['친절해요', '음식이 맛있어요', '특별한 메뉴가 있어요', '가성비가 좋아요', '매장이 넓어요']\n",
      "  작성시간: 2025-05-18T16:12:38\n",
      "  게시글: 진짜 개…. 맛있어요\n",
      "아 이런말 써도 되나요?\n",
      "가리비 버터 술찜 진짜…. 칼칼한데 버터맛 ...\n"
     ]
    }
   ],
   "source": [
    "import pandas as pd\n",
    "import json\n",
    "import random\n",
    "from datetime import datetime, timedelta\n",
    "\n",
    "# CSV 파일 읽기\n",
    "df = pd.read_csv('../../data/preprocessed/gangnam_restaurants.csv')\n",
    "\n",
    "def add_created_time_to_review(review_str):\n",
    "    \"\"\"리뷰 JSON 문자열에 작성 시간을 추가하는 함수\"\"\"\n",
    "    try:\n",
    "        # JSON 문자열을 파이썬 객체로 변환\n",
    "        reviews = json.loads(review_str)\n",
    "        \n",
    "        # 각 리뷰에 랜덤한 작성 시간 추가\n",
    "        for review in reviews:\n",
    "            # 한달 전부터 오늘까지의 랜덤한 시간 생성\n",
    "            end_date = datetime.now()\n",
    "            start_date = end_date - timedelta(days=30)\n",
    "            \n",
    "            # 랜덤한 날짜와 시간 생성\n",
    "            random_date = start_date + timedelta(\n",
    "                days=random.randint(0, 30),\n",
    "                hours=random.randint(0, 23),\n",
    "                minutes=random.randint(0, 59),\n",
    "                seconds=random.randint(0, 59)\n",
    "            )\n",
    "            \n",
    "            # ISO 8601 형식으로 변환 (LocalDateTime과 호환)\n",
    "            review['작성시간'] = random_date.strftime('%Y-%m-%dT%H:%M:%S')\n",
    "        \n",
    "        # 다시 JSON 문자열로 변환\n",
    "        return json.dumps(reviews, ensure_ascii=False)\n",
    "    \n",
    "    except (json.JSONDecodeError, TypeError):\n",
    "        # JSON 파싱 오류가 발생하면 원본 반환\n",
    "        return review_str\n",
    "\n",
    "# 리뷰 컬럼에 작성 시간 추가\n",
    "print(\"리뷰 데이터에 작성 시간을 추가하는 중...\")\n",
    "df['리뷰'] = df['리뷰'].apply(add_created_time_to_review)\n",
    "\n",
    "# 결과를 새로운 CSV 파일로 저장\n",
    "output_filename = '../../data/preprocessed/gangnam_restaurants_cleaned_data.csv'\n",
    "df.to_csv(output_filename, index=False, encoding='utf-8-sig')\n",
    "\n",
    "print(f\"작업 완료! 업데이트된 파일이 '{output_filename}'으로 저장되었습니다.\")\n",
    "\n",
    "# 결과 확인을 위한 샘플 출력\n",
    "print(\"\\n=== 업데이트된 리뷰 샘플 ===\")\n",
    "sample_review = json.loads(df['리뷰'].iloc[0])\n",
    "for i, review in enumerate(sample_review[:2]):  # 처음 2개 리뷰만 출력\n",
    "    print(f\"\\n리뷰 {i+1}:\")\n",
    "    print(f\"  태그: {review.get('태그', [])}\")\n",
    "    print(f\"  작성시간: {review.get('작성시간', 'N/A')}\")\n",
    "    print(f\"  게시글: {review.get('게시글', '')[:50]}...\")\n"
   ]
  }
 ],
 "metadata": {
  "kernelspec": {
   "display_name": ".venv",
   "language": "python",
   "name": "python3"
  },
  "language_info": {
   "codemirror_mode": {
    "name": "ipython",
    "version": 3
   },
   "file_extension": ".py",
   "mimetype": "text/x-python",
   "name": "python",
   "nbconvert_exporter": "python",
   "pygments_lexer": "ipython3",
   "version": "3.13.3"
  }
 },
 "nbformat": 4,
 "nbformat_minor": 5
}

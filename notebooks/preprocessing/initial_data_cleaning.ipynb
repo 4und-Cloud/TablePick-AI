{
 "cells": [
  {
   "cell_type": "code",
   "execution_count": 63,
   "id": "eaa21bf9",
   "metadata": {},
   "outputs": [],
   "source": [
    "import pandas as pd\n",
    "\n",
    "file_path = 'data.csv'\n",
    "df = pd.read_csv(file_path, encoding='utf-8', header=0, on_bad_lines='skip', low_memory=False)"
   ]
  },
  {
   "cell_type": "code",
   "execution_count": 64,
   "id": "d75fc7c5",
   "metadata": {},
   "outputs": [],
   "source": [
    "df= df[df['상세영업상태명'] == '영업']\n"
   ]
  },
  {
   "cell_type": "code",
   "execution_count": 65,
   "id": "590865ad",
   "metadata": {},
   "outputs": [],
   "source": [
    "# 전체 데이터의 결측치 비율 확인\n",
    "null_ratio = df.isnull().mean()\n",
    "# 결측치 비율이 50% 이상인 컬럼만 삭제\n",
    "df = df.loc[:, null_ratio < 0.5]\n"
   ]
  },
  {
   "cell_type": "code",
   "execution_count": 66,
   "id": "58ad75e1",
   "metadata": {},
   "outputs": [
    {
     "name": "stdout",
     "output_type": "stream",
     "text": [
      "12509\n",
      "    개방자치단체코드                    관리번호       인허가일자  영업상태코드  영업상태명  상세영업상태코드  \\\n",
      "0    3220000  3220000-101-1007-00001  1997-02-05       1  영업/정상         1   \n",
      "7    3220000  3220000-101-1899-20451  1999-10-05       1  영업/정상         1   \n",
      "8    3220000  3220000-101-1899-20453  1999-10-05       1  영업/정상         1   \n",
      "10   3220000  3220000-101-1899-20463  1999-10-06       1  영업/정상         1   \n",
      "15   3220000  3220000-101-1899-20500  1999-10-12       1  영업/정상         1   \n",
      "\n",
      "   상세영업상태명    소재지면적  소재지우편번호                   지번주소  ... 데이터갱신구분  \\\n",
      "0       영업      NaN  135-954  서울특별시 강남구 청담동 88-5번지   ...       I   \n",
      "7       영업   950.66  135-090     서울특별시 강남구 삼성동 159   ...       U   \n",
      "8       영업   473.24  135-090     서울특별시 강남구 삼성동 159   ...       U   \n",
      "10      영업   282.59  135-090     서울특별시 강남구 삼성동 159   ...       U   \n",
      "15      영업  1157.90  135-873   서울특별시 강남구 삼성동 109-6   ...       U   \n",
      "\n",
      "                  데이터갱신일자 업태구분명        좌표정보(X)        좌표정보(Y) 위생업태명 남성종사자수  \\\n",
      "0   2018-08-31 23:59:59.0    한식  203520.881091  446950.285626    한식    NaN   \n",
      "7   2022-01-13 02:40:00.0   경양식  205130.591679  445590.096838   경양식    0.0   \n",
      "8   2022-01-13 02:40:00.0   경양식  205130.591679  445590.096838   경양식    0.0   \n",
      "10  2022-01-13 02:40:00.0   경양식  205130.591679  445590.096838   경양식    0.0   \n",
      "15  2021-11-27 02:40:00.0    한식  205662.873886  445913.719788    한식    0.0   \n",
      "\n",
      "    여성종사자수  다중이용업소여부    시설총규모  \n",
      "0      NaN         N     0.00  \n",
      "7      0.0         N   950.66  \n",
      "8      0.0         N   473.24  \n",
      "10     0.0         N   282.59  \n",
      "15     0.0         N  1157.90  \n",
      "\n",
      "[5 rows x 24 columns]\n"
     ]
    }
   ],
   "source": [
    "print(len(df))\n",
    "print(df.head())\n"
   ]
  },
  {
   "cell_type": "code",
   "execution_count": 70,
   "id": "493e0f58",
   "metadata": {},
   "outputs": [
    {
     "data": {
      "text/plain": [
       "업태구분명\n",
       "한식                 4944\n",
       "경양식                2130\n",
       "기타                 1764\n",
       "일식                 1044\n",
       "분식                  810\n",
       "중국식                 415\n",
       "호프/통닭               301\n",
       "외국음식전문점(인도,태국등)     250\n",
       "패스트푸드               147\n",
       "통닭(치킨)              122\n",
       "까페                   96\n",
       "김밥(도시락)              95\n",
       "감성주점                 73\n",
       "식육(숯불구이)             71\n",
       "뷔페식                  52\n",
       "정종/대포집/소주방           52\n",
       "패밀리레스트랑              30\n",
       "횟집                   27\n",
       "라이브카페                24\n",
       "출장조리                 19\n",
       "전통찻집                 14\n",
       "탕류(보신용)              14\n",
       "복어취급                  6\n",
       "키즈카페                  4\n",
       "냉면집                   3\n",
       "이동조리                  1\n",
       "Name: count, dtype: int64"
      ]
     },
     "execution_count": 70,
     "metadata": {},
     "output_type": "execute_result"
    }
   ],
   "source": [
    "df['업태구분명'].unique()\n",
    "df['업태구분명'].value_counts()\n"
   ]
  },
  {
   "cell_type": "code",
   "execution_count": 67,
   "id": "aab9293e",
   "metadata": {},
   "outputs": [],
   "source": [
    "df.to_csv('gangnam_sales_only.csv', index=False, encoding='utf-8-sig')\n"
   ]
  },
  {
   "cell_type": "code",
   "execution_count": null,
   "id": "bd743262",
   "metadata": {},
   "outputs": [],
   "source": [
    "\n",
    "# CSV 파일 읽기\n",
    "df = pd.read_csv('gangnam_sales_only.csv', header=None)\n",
    "\n",
    "# 남길 컬럼만 선택 (인덱스는 0부터 시작)\n",
    "df_cleaned = df[[1, 2, 7, 12]]\n",
    "\n",
    "# 컬럼명 지정\n",
    "df_cleaned.columns = ['음식점ID', '인허가일자', '소재지면적', '음식점명']\n"
   ]
  },
  {
   "cell_type": "code",
   "execution_count": 7,
   "id": "4ce4351f",
   "metadata": {},
   "outputs": [
    {
     "name": "stdout",
     "output_type": "stream",
     "text": [
      "                        음식점ID       인허가일자   소재지면적              음식점명\n",
      "0                        관리번호       인허가일자   소재지면적              사업장명\n",
      "1      3220000-101-1007-00001  1997-02-05     NaN               배초향\n",
      "2      3220000-101-1899-20451  1999-10-05  950.66              브래서리\n",
      "3      3220000-101-1899-20453  1999-10-05  473.24             로비라운지\n",
      "4      3220000-101-1899-20463  1999-10-06  282.59               로비바\n",
      "...                       ...         ...     ...               ...\n",
      "12505  3220000-101-2025-00467  2025-04-23    54.2  하츠노스시 바이(by) 코우지\n",
      "12506  3220000-101-2025-00468  2025-04-23    18.0        주식회사 퍼블릭푸드\n",
      "12507  3220000-101-2025-00469  2025-04-23    32.0             오케이포케\n",
      "12508  3220000-101-2025-00470  2025-04-23    18.0              윈윈푸드\n",
      "12509  3220000-101-2025-00471  2025-04-23    90.9          고봉당 논현역점\n",
      "\n",
      "[12510 rows x 4 columns]\n"
     ]
    }
   ],
   "source": [
    "print(df_cleaned)"
   ]
  },
  {
   "cell_type": "code",
   "execution_count": 8,
   "id": "6b235cb8",
   "metadata": {},
   "outputs": [],
   "source": [
    "\n",
    "# 정제된 데이터 저장\n",
    "df_cleaned.to_csv('gangnam_restaurants_cleaned.csv', index=False)"
   ]
  },
  {
   "cell_type": "code",
   "execution_count": null,
   "id": "a773c6ab",
   "metadata": {},
   "outputs": [
    {
     "name": "stdout",
     "output_type": "stream",
     "text": [
      "                        음식점ID              음식점명\n",
      "0      3220000-101-1007-00001               배초향\n",
      "1      3220000-101-1899-20451              브래서리\n",
      "2      3220000-101-1899-20453             로비라운지\n",
      "3      3220000-101-1899-20463               로비바\n",
      "4      3220000-101-1899-20500             노블발렌티\n",
      "...                       ...               ...\n",
      "12504  3220000-101-2025-00467  하츠노스시 바이(by) 코우지\n",
      "12505  3220000-101-2025-00468        주식회사 퍼블릭푸드\n",
      "12506  3220000-101-2025-00469             오케이포케\n",
      "12507  3220000-101-2025-00470              윈윈푸드\n",
      "12508  3220000-101-2025-00471          고봉당 논현역점\n",
      "\n",
      "[12509 rows x 2 columns]\n"
     ]
    }
   ],
   "source": [
    "\n",
    "# CSV 파일 읽기\n",
    "df = pd.read_csv('gangnam_restaurants_cleaned.csv')\n",
    "\n",
    "# 필요한 열만 선택\n",
    "restaurants = df[['음식점ID', '음식점명']].dropna()\n"
   ]
  },
  {
   "cell_type": "code",
   "execution_count": 3,
   "id": "adf0f54c",
   "metadata": {},
   "outputs": [
    {
     "name": "stdout",
     "output_type": "stream",
     "text": [
      "원본 데이터 행 수: 12503\n",
      "필터링 후 데이터 행 수: 12485\n",
      "제거된 행 수: 18\n"
     ]
    }
   ],
   "source": [
    "import pandas as pd\n",
    "\n",
    "# 파일 불러오기\n",
    "file_path = 'gangnam_restaurants_cleaned.csv'\n",
    "df = pd.read_csv(file_path, encoding='utf-8')\n",
    "\n",
    "# 음식점명 컬럼 확인 (일반적으로 '사업장명' 또는 '업소명' 등으로 되어 있을 수 있음)\n",
    "column_name = '음식점명'  # 실제 컬럼명으로 변경해주세요\n",
    "\n",
    "# \"(한시적)\"이 포함된 행을 제외한 데이터프레임 생성\n",
    "df_filtered = df[~df[column_name].str.contains('(한시적)', regex=False)]\n",
    "\n",
    "# 결과 확인\n",
    "print(f\"원본 데이터 행 수: {len(df)}\")\n",
    "print(f\"필터링 후 데이터 행 수: {len(df_filtered)}\")\n",
    "print(f\"제거된 행 수: {len(df) - len(df_filtered)}\")\n",
    "\n",
    "# 변경된 데이터 저장\n",
    "df_filtered.to_csv('gangnam_restaurants_cleaned.csv', index=False, encoding='utf-8-sig')\n"
   ]
  }
 ],
 "metadata": {
  "kernelspec": {
   "display_name": ".venv",
   "language": "python",
   "name": "python3"
  },
  "language_info": {
   "codemirror_mode": {
    "name": "ipython",
    "version": 3
   },
   "file_extension": ".py",
   "mimetype": "text/x-python",
   "name": "python",
   "nbconvert_exporter": "python",
   "pygments_lexer": "ipython3",
   "version": "3.13.3"
  }
 },
 "nbformat": 4,
 "nbformat_minor": 5
}
